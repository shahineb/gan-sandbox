{
 "cells": [
  {
   "cell_type": "code",
   "execution_count": 1,
   "metadata": {},
   "outputs": [],
   "source": [
    "import os\n",
    "import sys\n",
    "import numpy as np\n",
    "import matplotlib.pyplot as plt\n",
    "import torch\n",
    "import torch.nn as nn\n",
    "import torchvision.transforms as transforms"
   ]
  },
  {
   "cell_type": "code",
   "execution_count": 2,
   "metadata": {},
   "outputs": [],
   "source": [
    "base_dir = os.path.dirname(os.getcwd())\n",
    "sys.path.append(base_dir)\n",
    "\n",
    "from core.dataloader import CelebALoader\n",
    "from core.models import VAE, Discriminator\n",
    "from core.models import modules\n",
    "from core.engine import ConfigFile, NCTrainer\n",
    "data_dir = \"../data/\""
   ]
  },
  {
   "cell_type": "markdown",
   "metadata": {},
   "source": [
    "# ./Session"
   ]
  },
  {
   "cell_type": "code",
   "execution_count": 3,
   "metadata": {},
   "outputs": [],
   "source": [
    "config = ConfigFile(\"\")"
   ]
  },
  {
   "cell_type": "code",
   "execution_count": 4,
   "metadata": {},
   "outputs": [
    {
     "name": "stderr",
     "output_type": "stream",
     "text": [
      "/home/shahine/neural-conditioner/utils/IOHandler.py:25: UserWarning: directory /media/raid/shahine/neural_conditioner/sandbox_session already exists\n",
      "  warnings.warn(f\"directory {full_path} already exists\")\n",
      "/home/shahine/neural-conditioner/utils/IOHandler.py:25: UserWarning: directory /media/raid/shahine/neural_conditioner/sandbox_session/chkpt already exists\n",
      "  warnings.warn(f\"directory {full_path} already exists\")\n",
      "/home/shahine/neural-conditioner/utils/IOHandler.py:25: UserWarning: directory /media/raid/shahine/neural_conditioner/sandbox_session/runs already exists\n",
      "  warnings.warn(f\"directory {full_path} already exists\")\n",
      "/home/shahine/neural-conditioner/utils/IOHandler.py:25: UserWarning: directory /media/raid/shahine/neural_conditioner/sandbox_session/scores already exists\n",
      "  warnings.warn(f\"directory {full_path} already exists\")\n"
     ]
    }
   ],
   "source": [
    "config.set_session_name(\"sandbox_session\")\n",
    "config.setup_session()"
   ]
  },
  {
   "cell_type": "markdown",
   "metadata": {},
   "source": [
    "\n",
    "# ./Dataloader"
   ]
  },
  {
   "cell_type": "code",
   "execution_count": 7,
   "metadata": {},
   "outputs": [],
   "source": [
    "dataloader = CelebALoader(data_dir=data_dir, \n",
    "                          batch_size=32,\n",
    "                          train_transform=transforms.Compose([transforms.Resize((256, 256)), transforms.ToTensor()]),\n",
    "                          val_transform=transforms.Compose([transforms.Resize((256, 256)), transforms.ToTensor()]),\n",
    "                          validation_split=0.3)\n",
    "config.set_dataloader(dataloader)"
   ]
  },
  {
   "cell_type": "markdown",
   "metadata": {},
   "source": [
    "__Mask Generator :__"
   ]
  },
  {
   "cell_type": "code",
   "execution_count": 8,
   "metadata": {},
   "outputs": [],
   "source": [
    "masks_kwargs = {'size': (256, 256),\n",
    "                'coverage': (0.1, 0.5)}\n",
    "\n",
    "config.update_kwargs(masks=masks_kwargs)"
   ]
  },
  {
   "cell_type": "markdown",
   "metadata": {},
   "source": [
    "# ./Model"
   ]
  },
  {
   "cell_type": "markdown",
   "metadata": {},
   "source": [
    "__VAE :__"
   ]
  },
  {
   "cell_type": "code",
   "execution_count": 17,
   "metadata": {},
   "outputs": [],
   "source": [
    "vae = VAE(input_size=(6, 256, 256), \n",
    "          z_dim=32, \n",
    "          enc_nf = [32, 64], \n",
    "          dec_nf = [256, 128, 64, 64],\n",
    "          enc_kwargs = {'padding': 1},\n",
    "          dec_kwargs = 3 * [{'kernel_size':4, 'padding': 1}] + [{'kernel_size':5, 'padding': 1}],\n",
    "          out_channels=3)\n",
    "config.set_model(vae)"
   ]
  },
  {
   "cell_type": "markdown",
   "metadata": {},
   "source": [
    "__Discriminator :__"
   ]
  },
  {
   "cell_type": "code",
   "execution_count": 10,
   "metadata": {},
   "outputs": [],
   "source": [
    "disc_kwargs = {'input_size': (3, 256, 256),\n",
    "              'nb_filters': [32, 64]}\n",
    "config.update_kwargs(discriminator=disc_kwargs)"
   ]
  },
  {
   "cell_type": "markdown",
   "metadata": {},
   "source": [
    "# ./Training params"
   ]
  },
  {
   "cell_type": "markdown",
   "metadata": {},
   "source": [
    "__Criterion :__"
   ]
  },
  {
   "cell_type": "code",
   "execution_count": 11,
   "metadata": {},
   "outputs": [],
   "source": [
    "criterion = nn.BCELoss()\n",
    "config.set_criterion(criterion)"
   ]
  },
  {
   "cell_type": "markdown",
   "metadata": {},
   "source": [
    "__Optimizers:__"
   ]
  },
  {
   "cell_type": "code",
   "execution_count": 12,
   "metadata": {},
   "outputs": [],
   "source": [
    "gen_optimizer = torch.optim.Adam(vae.parameters(), lr=1e-3, weight_decay=1e-6)\n",
    "disc_optimizer = {'lr': 1e-3,\n",
    "                  'weight_decay': 1e-6}\n",
    "\n",
    "config.set_optimizer(gen_optimizer)\n",
    "config.update_kwargs(disc_optimizer=disc_optimizer)"
   ]
  },
  {
   "cell_type": "markdown",
   "metadata": {},
   "source": [
    "__Metrics:__"
   ]
  },
  {
   "cell_type": "code",
   "execution_count": 13,
   "metadata": {},
   "outputs": [],
   "source": [
    "pass"
   ]
  },
  {
   "cell_type": "markdown",
   "metadata": {},
   "source": [
    "__Training scope :__"
   ]
  },
  {
   "cell_type": "code",
   "execution_count": 14,
   "metadata": {},
   "outputs": [],
   "source": [
    "epoch = 128\n",
    "config.set_epochs(epoch)"
   ]
  },
  {
   "cell_type": "code",
   "execution_count": 18,
   "metadata": {},
   "outputs": [],
   "source": [
    "config.dump()"
   ]
  },
  {
   "cell_type": "code",
   "execution_count": 16,
   "metadata": {},
   "outputs": [
    {
     "name": "stdout",
     "output_type": "stream",
     "text": [
      "\u001b[01;34m/media/raid/shahine/neural_conditioner/\u001b[00m\r\n",
      "└── \u001b[01;34msandbox_session\u001b[00m\r\n",
      "    ├── \u001b[01;34mchkpt\u001b[00m\r\n",
      "    ├── \u001b[01;34mruns\u001b[00m\r\n",
      "    └── \u001b[01;34mscores\u001b[00m\r\n",
      "\r\n",
      "4 directories\r\n"
     ]
    }
   ],
   "source": [
    "!tree -d /media/raid/shahine/neural_conditioner/"
   ]
  }
 ],
 "metadata": {
  "kernelspec": {
   "display_name": "Python 3",
   "language": "python",
   "name": "python3"
  },
  "language_info": {
   "codemirror_mode": {
    "name": "ipython",
    "version": 3
   },
   "file_extension": ".py",
   "mimetype": "text/x-python",
   "name": "python",
   "nbconvert_exporter": "python",
   "pygments_lexer": "ipython3",
   "version": "3.6.5"
  }
 },
 "nbformat": 4,
 "nbformat_minor": 2
}
