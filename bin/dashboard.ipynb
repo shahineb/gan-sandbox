{
 "cells": [
  {
   "cell_type": "code",
   "execution_count": 1,
   "metadata": {},
   "outputs": [],
   "source": [
    "import os\n",
    "import sys\n",
    "import numpy as np\n",
    "import matplotlib.pyplot as plt\n",
    "import torch\n",
    "import torch.nn as nn\n",
    "import torchvision.transforms as transforms\n",
    "from torch import optim"
   ]
  },
  {
   "cell_type": "code",
   "execution_count": 2,
   "metadata": {},
   "outputs": [],
   "source": [
    "base_dir = os.path.dirname(os.getcwd())\n",
    "sys.path.append(base_dir)\n",
    "\n",
    "from core.dataloader import CelebALoader, PokeLoader\n",
    "from core.models import VAE, Discriminator, Generator\n",
    "from core.models import modules\n",
    "from core.engine import ConfigFile, NCTrainer\n",
    "from core.metrics import *\n",
    "data_dir = \"../../tmp\""
   ]
  },
  {
   "cell_type": "markdown",
   "metadata": {},
   "source": [
    "# ./Session"
   ]
  },
  {
   "cell_type": "code",
   "execution_count": 3,
   "metadata": {},
   "outputs": [],
   "source": [
    "config = ConfigFile(\"\")"
   ]
  },
  {
   "cell_type": "code",
   "execution_count": 4,
   "metadata": {},
   "outputs": [
    {
     "name": "stderr",
     "output_type": "stream",
     "text": [
      "/home/shahine/neural-conditioner/utils/IOHandler.py:25: UserWarning: directory /home/shahine/neural-conditioner/bin/sandbox_mix already exists\n",
      "  warnings.warn(f\"directory {full_path} already exists\")\n",
      "/home/shahine/neural-conditioner/utils/IOHandler.py:25: UserWarning: directory /home/shahine/neural-conditioner/bin/sandbox_mix/chkpt already exists\n",
      "  warnings.warn(f\"directory {full_path} already exists\")\n",
      "/home/shahine/neural-conditioner/utils/IOHandler.py:25: UserWarning: directory /home/shahine/neural-conditioner/bin/sandbox_mix/runs already exists\n",
      "  warnings.warn(f\"directory {full_path} already exists\")\n",
      "/home/shahine/neural-conditioner/utils/IOHandler.py:25: UserWarning: directory /home/shahine/neural-conditioner/bin/sandbox_mix/scores already exists\n",
      "  warnings.warn(f\"directory {full_path} already exists\")\n"
     ]
    }
   ],
   "source": [
    "config.set_session_name(\"sandbox_mix\")\n",
    "config.setup_session()"
   ]
  },
  {
   "cell_type": "markdown",
   "metadata": {},
   "source": [
    "\n",
    "# ./Dataloader"
   ]
  },
  {
   "cell_type": "code",
   "execution_count": 30,
   "metadata": {},
   "outputs": [],
   "source": [
    "transform = transforms.Compose([transforms.Resize((64, 64)),\n",
    "                                transforms.RandomHorizontalFlip(),\n",
    "                                transforms.ToTensor(),\n",
    "                                transforms.Normalize(mean=(0.5, 0.5, 0.5),\n",
    "                                                     std=(0.5, 0.5, 0.5))])\n",
    "\n",
    "dataloader = PokeLoader(data_dir=os.path.join(data_dir, 'pokemon'), \n",
    "                          batch_size=32,\n",
    "                          train_transform=transform,\n",
    "                          val_transform=transform,\n",
    "                          validation_split=0.05)\n",
    "config.set_dataloader(dataloader)"
   ]
  },
  {
   "cell_type": "code",
   "execution_count": 5,
   "metadata": {},
   "outputs": [],
   "source": [
    "transform = transforms.Compose([transforms.Resize((64, 64)), \n",
    "                                transforms.ToTensor(),\n",
    "                                transforms.Normalize(mean=(0.5, 0.5, 0.5),\n",
    "                                                     std=(0.5, 0.5, 0.5))])\n",
    "\n",
    "sampler = torch.utils.data.SubsetRandomSampler(indices=np.random.choice(96000, size=96000))\n",
    "\n",
    "dataloader = CelebALoader(data_dir=data_dir, \n",
    "                          batch_size=128,\n",
    "                          train_transform=transform,\n",
    "                          val_transform=transform,\n",
    "                          sampler=sampler,\n",
    "                          validation_split=0.3)\n",
    "config.set_dataloader(dataloader)"
   ]
  },
  {
   "cell_type": "markdown",
   "metadata": {},
   "source": [
    "__Mask Generator :__"
   ]
  },
  {
   "cell_type": "code",
   "execution_count": 6,
   "metadata": {},
   "outputs": [],
   "source": [
    "masks_kwargs = {'size': (64, 64),\n",
    "                'coverage': (0.1, 0.5)}\n",
    "\n",
    "config.update_kwargs(masks=masks_kwargs)"
   ]
  },
  {
   "cell_type": "markdown",
   "metadata": {},
   "source": [
    "# ./Model"
   ]
  },
  {
   "cell_type": "markdown",
   "metadata": {},
   "source": [
    "__Generator :__"
   ]
  },
  {
   "cell_type": "code",
   "execution_count": 6,
   "metadata": {},
   "outputs": [],
   "source": [
    "kwargs =  [{'stride': 1, 'padding': 0}] + 3 * [{}] + [{'kernel_size': 4, 'bn': False, 'relu': False}]\n",
    "\n",
    "generator = Generator(latent_size=(100, 1, 1),\n",
    "                      nb_filters=[512, 256, 128, 64, 3],\n",
    "                      conv_kwargs=kwargs)\n",
    "config.set_model(generator)"
   ]
  },
  {
   "cell_type": "markdown",
   "metadata": {},
   "source": [
    "__VAE :__"
   ]
  },
  {
   "cell_type": "code",
   "execution_count": 9,
   "metadata": {},
   "outputs": [],
   "source": [
    "# vae = VAE(input_size=(6, 64, 64), \n",
    "#           z_dim=100, \n",
    "#           enc_nf = [64, 128, 128], \n",
    "#           dec_nf = [256, 128, 128],\n",
    "#           enc_kwargs = {'padding': 1},\n",
    "#           dec_kwargs = {'kernel_size': 4},\n",
    "#           out_kwargs = {'kernel_size': 4, 'relu': False, 'bn': False},\n",
    "#           out_channels=3)\n",
    "# config.set_model(vae)"
   ]
  },
  {
   "cell_type": "markdown",
   "metadata": {},
   "source": [
    "__Discriminator :__"
   ]
  },
  {
   "cell_type": "code",
   "execution_count": 7,
   "metadata": {},
   "outputs": [],
   "source": [
    "kwargs = [{'kernel_size': 4, 'padding': 1, 'stride': 2, 'leak': 0.2, 'bn': False}] + \\\n",
    "         3 * [{'kernel_size': 4, 'padding': 1, 'stride': 2, 'leak': 0.2, 'bn': True}]\n",
    "\n",
    "disc_kwargs = {'input_size': (3, 64, 64),\n",
    "              'nb_filters': [512, 256, 128, 128],\n",
    "              'conv_kwargs': kwargs}\n",
    "config.update_kwargs(discriminator=disc_kwargs)"
   ]
  },
  {
   "cell_type": "markdown",
   "metadata": {},
   "source": [
    "# ./Training params"
   ]
  },
  {
   "cell_type": "markdown",
   "metadata": {},
   "source": [
    "__Criterion :__"
   ]
  },
  {
   "cell_type": "code",
   "execution_count": 8,
   "metadata": {},
   "outputs": [],
   "source": [
    "criterion = nn.BCELoss()\n",
    "config.set_criterion(criterion)"
   ]
  },
  {
   "cell_type": "markdown",
   "metadata": {},
   "source": [
    "__Optimizers:__"
   ]
  },
  {
   "cell_type": "code",
   "execution_count": 9,
   "metadata": {},
   "outputs": [],
   "source": [
    "gen_optimizer = torch.optim.Adam(generator.parameters(), lr=2e-4, betas=(0.5, 0.999))\n",
    "disc_optimizer = {'lr': 2e-4,\n",
    "                  'betas': (0.5, 0.999)}\n",
    "\n",
    "config.set_optimizer(gen_optimizer)\n",
    "config.update_kwargs(disc_optimizer=disc_optimizer)"
   ]
  },
  {
   "cell_type": "markdown",
   "metadata": {},
   "source": [
    "__LR Scheduler:__"
   ]
  },
  {
   "cell_type": "code",
   "execution_count": 34,
   "metadata": {},
   "outputs": [],
   "source": [
    "scheduler = optim.lr_scheduler.ExponentialLR(optimizer=config.optimizer, gamma=0.999)\n",
    "\n",
    "config.set_lr_scheduler(scheduler)"
   ]
  },
  {
   "cell_type": "markdown",
   "metadata": {},
   "source": [
    "__Metrics:__"
   ]
  },
  {
   "cell_type": "code",
   "execution_count": 16,
   "metadata": {},
   "outputs": [],
   "source": [
    "callables = [accuracy, precision, recall]\n",
    "config.set_metrics(callables)"
   ]
  },
  {
   "cell_type": "markdown",
   "metadata": {},
   "source": [
    "__Mixup:__"
   ]
  },
  {
   "cell_type": "code",
   "execution_count": 11,
   "metadata": {},
   "outputs": [],
   "source": [
    "mixup_kwargs = {'alpha': 0.75}\n",
    "config.update_kwargs(mixup=mixup_kwargs)"
   ]
  },
  {
   "cell_type": "markdown",
   "metadata": {},
   "source": [
    "__Training scope :__"
   ]
  },
  {
   "cell_type": "code",
   "execution_count": 12,
   "metadata": {},
   "outputs": [],
   "source": [
    "epoch = 128\n",
    "config.set_epochs(epoch)"
   ]
  },
  {
   "cell_type": "code",
   "execution_count": 17,
   "metadata": {},
   "outputs": [],
   "source": [
    "config.dump()"
   ]
  },
  {
   "cell_type": "code",
   "execution_count": 14,
   "metadata": {},
   "outputs": [
    {
     "data": {
      "text/plain": [
       "<core.engine.config_file.ConfigFile object at 0x7faf0042eb00>\n",
       "_session_name : sandbox_mix\n",
       "_session_dir : /home/shahine/neural-conditioner/bin/sandbox_mix\n",
       "_criterion : BCELoss()\n",
       "_optimizer : Adam (\n",
       "Parameter Group 0\n",
       "    amsgrad: False\n",
       "    betas: (0.5, 0.999)\n",
       "    eps: 1e-08\n",
       "    lr: 0.0002\n",
       "    weight_decay: 0\n",
       ")\n",
       "_metrics : None\n",
       "_dataloader : Dataset CelebA\n",
       "    Number of datapoints: 162770\n",
       "    Root location: ../../tmp\n",
       "    Target type: ['attr']\n",
       "    Split: train\n",
       "<core.dataloader.celeba.CelebALoader object at 0x7fae783f5e48>\n",
       "_init_epoch : 0\n",
       "_epochs : 128\n",
       "_lr_scheduler : None\n",
       "_seed : 73\n",
       "_kwargs : {'discriminator': {'input_size': (3, 64, 64), 'nb_filters': [512, 256, 128, 128], 'conv_kwargs': [{'kernel_size': 4, 'padding': 1, 'stride': 2, 'leak': 0.2, 'bn': False}, {'kernel_size': 4, 'padding': 1, 'stride': 2, 'leak': 0.2, 'bn': True}, {'kernel_size': 4, 'padding': 1, 'stride': 2, 'leak': 0.2, 'bn': True}, {'kernel_size': 4, 'padding': 1, 'stride': 2, 'leak': 0.2, 'bn': True}]}, 'disc_optimizer': {'lr': 0.0002, 'betas': (0.5, 0.999)}, 'mixup': {'alpha': 0.75}}"
      ]
     },
     "execution_count": 14,
     "metadata": {},
     "output_type": "execute_result"
    }
   ],
   "source": [
    "config"
   ]
  },
  {
   "cell_type": "code",
   "execution_count": 46,
   "metadata": {},
   "outputs": [
    {
     "name": "stdout",
     "output_type": "stream",
     "text": [
      "\u001b[01;34m../bin\u001b[00m\r\n",
      "├── \u001b[01;34msandbox_gans\u001b[00m\r\n",
      "│   ├── \u001b[01;34mchkpt\u001b[00m\r\n",
      "│   ├── \u001b[01;34mruns\u001b[00m\r\n",
      "│   └── \u001b[01;34mscores\u001b[00m\r\n",
      "└── \u001b[01;34msandbox_gans_2\u001b[00m\r\n",
      "    ├── \u001b[01;34mchkpt\u001b[00m\r\n",
      "    ├── \u001b[01;34mruns\u001b[00m\r\n",
      "    └── \u001b[01;34mscores\u001b[00m\r\n",
      "\r\n",
      "8 directories\r\n"
     ]
    }
   ],
   "source": [
    "!tree -d ../bin"
   ]
  },
  {
   "cell_type": "code",
   "execution_count": 11,
   "metadata": {},
   "outputs": [],
   "source": [
    "class Generator(nn.Module):\n",
    "    \"\"\"DCGAN Generator G(z)\"\"\"\n",
    "\n",
    "    def __init__(self, latent_dim=100):\n",
    "        super(Generator, self).__init__()\n",
    "        self.latent_size = (latent_dim, )\n",
    "\n",
    "        # Project and reshape\n",
    "        self.linear = nn.Sequential(\n",
    "            nn.Linear(latent_dim, 512 * 4 * 4, bias=True),\n",
    "            nn.BatchNorm1d(512 * 4 * 4),\n",
    "            nn.ReLU(inplace=True))\n",
    "\n",
    "        # Upsample\n",
    "        self.features = nn.Sequential(\n",
    "            nn.ConvTranspose2d(512, 256, kernel_size=4, stride=2, padding=1, bias=False),\n",
    "            nn.BatchNorm2d(256),\n",
    "            nn.ReLU(inplace=True),\n",
    "            nn.ConvTranspose2d(256, 128, 4, 2, 1, bias=False),\n",
    "            nn.BatchNorm2d(128),\n",
    "            nn.ReLU(inplace=True),\n",
    "            nn.ConvTranspose2d(128, 64, 4, 2, 1, bias=False),\n",
    "            nn.BatchNorm2d(64),\n",
    "            nn.ReLU(inplace=True),\n",
    "            nn.ConvTranspose2d(64, 3, 4, 2, 1, bias=False),\n",
    "            nn.Tanh())\n",
    "        \"\"\"\n",
    "        self.features = nn.Sequential(\n",
    "            nn.ConvTranspose2d(512, 256, kernel_size=5, stride=2, padding=2,\n",
    "                output_padding=1, bias=False),\n",
    "            nn.BatchNorm2d(256),\n",
    "            nn.ReLU(inplace=True),\n",
    "            nn.ConvTranspose2d(256, 128, 5, 2, 2, 1, bias=False),\n",
    "            nn.BatchNorm2d(128),\n",
    "            nn.ReLU(inplace=True),\n",
    "            nn.ConvTranspose2d(128, 64, 5, 2, 2, 1, bias=False),\n",
    "            nn.BatchNorm2d(64),\n",
    "            nn.ReLU(inplace=True),\n",
    "            nn.ConvTranspose2d(64, 3, 5, 2, 2, 1, bias=False),\n",
    "            nn.Tanh())\n",
    "        \"\"\"\n",
    "\n",
    "    def forward(self, x):\n",
    "        x = self.linear(x).view(x.size(0), -1, 4, 4)\n",
    "        return self.features(x)\n"
   ]
  },
  {
   "cell_type": "code",
   "execution_count": 12,
   "metadata": {},
   "outputs": [
    {
     "data": {
      "text/plain": [
       "torch.Size([4, 3, 64, 64])"
      ]
     },
     "execution_count": 12,
     "metadata": {},
     "output_type": "execute_result"
    }
   ],
   "source": [
    "generator = Generator()\n",
    "generator(torch.randn((4, 100))).shape"
   ]
  },
  {
   "cell_type": "code",
   "execution_count": 13,
   "metadata": {},
   "outputs": [
    {
     "data": {
      "text/plain": [
       "(100,)"
      ]
     },
     "execution_count": 13,
     "metadata": {},
     "output_type": "execute_result"
    }
   ],
   "source": [
    "generator.latent_size"
   ]
  },
  {
   "cell_type": "code",
   "execution_count": 14,
   "metadata": {},
   "outputs": [],
   "source": [
    "config.set_model(generator)"
   ]
  },
  {
   "cell_type": "code",
   "execution_count": null,
   "metadata": {},
   "outputs": [],
   "source": []
  }
 ],
 "metadata": {
  "kernelspec": {
   "display_name": "Python 3",
   "language": "python",
   "name": "python3"
  },
  "language_info": {
   "codemirror_mode": {
    "name": "ipython",
    "version": 3
   },
   "file_extension": ".py",
   "mimetype": "text/x-python",
   "name": "python",
   "nbconvert_exporter": "python",
   "pygments_lexer": "ipython3",
   "version": "3.6.6"
  }
 },
 "nbformat": 4,
 "nbformat_minor": 2
}
