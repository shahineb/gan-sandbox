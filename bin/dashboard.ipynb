{
 "cells": [
  {
   "cell_type": "code",
   "execution_count": 2,
   "metadata": {},
   "outputs": [],
   "source": [
    "import os\n",
    "import sys\n",
    "import numpy as np\n",
    "import matplotlib.pyplot as plt\n",
    "import torch\n",
    "import torch.nn as nn\n",
    "import torchvision.transforms as transforms\n",
    "from torch import optim"
   ]
  },
  {
   "cell_type": "code",
   "execution_count": 3,
   "metadata": {},
   "outputs": [],
   "source": [
    "base_dir = os.path.dirname(os.getcwd())\n",
    "sys.path.append(base_dir)\n",
    "\n",
    "from core.dataloader import CelebALoader, PokeLoader\n",
    "from core.models import VAE, Discriminator, Generator\n",
    "from core.models import modules\n",
    "from core.engine import ConfigFile, NCTrainer\n",
    "from core.metrics import *\n",
    "data_dir = \"../../tmp\""
   ]
  },
  {
   "cell_type": "markdown",
   "metadata": {},
   "source": [
    "# ./Session"
   ]
  },
  {
   "cell_type": "code",
   "execution_count": 3,
   "metadata": {},
   "outputs": [],
   "source": [
    "config = ConfigFile(\"\")"
   ]
  },
  {
   "cell_type": "code",
   "execution_count": 4,
   "metadata": {},
   "outputs": [
    {
     "name": "stderr",
     "output_type": "stream",
     "text": [
      "/home/shahine/neural-conditioner/utils/IOHandler.py:25: UserWarning: directory /home/shahine/neural-conditioner/bin/sandbox_mix already exists\n",
      "  warnings.warn(f\"directory {full_path} already exists\")\n",
      "/home/shahine/neural-conditioner/utils/IOHandler.py:25: UserWarning: directory /home/shahine/neural-conditioner/bin/sandbox_mix/chkpt already exists\n",
      "  warnings.warn(f\"directory {full_path} already exists\")\n",
      "/home/shahine/neural-conditioner/utils/IOHandler.py:25: UserWarning: directory /home/shahine/neural-conditioner/bin/sandbox_mix/runs already exists\n",
      "  warnings.warn(f\"directory {full_path} already exists\")\n",
      "/home/shahine/neural-conditioner/utils/IOHandler.py:25: UserWarning: directory /home/shahine/neural-conditioner/bin/sandbox_mix/scores already exists\n",
      "  warnings.warn(f\"directory {full_path} already exists\")\n"
     ]
    }
   ],
   "source": [
    "config.set_session_name(\"sandbox_mix\")\n",
    "config.setup_session()"
   ]
  },
  {
   "cell_type": "markdown",
   "metadata": {},
   "source": [
    "\n",
    "# ./Dataloader"
   ]
  },
  {
   "cell_type": "code",
   "execution_count": 30,
   "metadata": {},
   "outputs": [],
   "source": [
    "transform = transforms.Compose([transforms.Resize((64, 64)),\n",
    "                                transforms.RandomHorizontalFlip(),\n",
    "                                transforms.ToTensor(),\n",
    "                                transforms.Normalize(mean=(0.5, 0.5, 0.5),\n",
    "                                                     std=(0.5, 0.5, 0.5))])\n",
    "\n",
    "dataloader = PokeLoader(data_dir=os.path.join(data_dir, 'pokemon'), \n",
    "                          batch_size=32,\n",
    "                          train_transform=transform,\n",
    "                          val_transform=transform,\n",
    "                          validation_split=0.05)\n",
    "config.set_dataloader(dataloader)"
   ]
  },
  {
   "cell_type": "code",
   "execution_count": 5,
   "metadata": {},
   "outputs": [],
   "source": [
    "transform = transforms.Compose([transforms.Resize((64, 64)), \n",
    "                                transforms.ToTensor(),\n",
    "                                transforms.Normalize(mean=(0.5, 0.5, 0.5),\n",
    "                                                     std=(0.5, 0.5, 0.5))])\n",
    "\n",
    "sampler = torch.utils.data.SubsetRandomSampler(indices=np.random.choice(96000, size=96000))\n",
    "\n",
    "dataloader = CelebALoader(data_dir=data_dir, \n",
    "                          batch_size=128,\n",
    "                          train_transform=transform,\n",
    "                          val_transform=transform,\n",
    "                          sampler=sampler,\n",
    "                          validation_split=0.3)\n",
    "config.set_dataloader(dataloader)"
   ]
  },
  {
   "cell_type": "markdown",
   "metadata": {},
   "source": [
    "__Mask Generator :__"
   ]
  },
  {
   "cell_type": "code",
   "execution_count": 6,
   "metadata": {},
   "outputs": [],
   "source": [
    "masks_kwargs = {'size': (64, 64),\n",
    "                'coverage': (0.1, 0.5)}\n",
    "\n",
    "config.update_kwargs(masks=masks_kwargs)"
   ]
  },
  {
   "cell_type": "markdown",
   "metadata": {},
   "source": [
    "# ./Model"
   ]
  },
  {
   "cell_type": "markdown",
   "metadata": {},
   "source": [
    "__Generator :__"
   ]
  },
  {
   "cell_type": "code",
   "execution_count": 6,
   "metadata": {},
   "outputs": [],
   "source": [
    "kwargs =  [{'stride': 1, 'padding': 0}] + 3 * [{}] + [{'kernel_size': 4, 'bn': False, 'relu': False}]\n",
    "\n",
    "generator = Generator(latent_size=(100, 1, 1),\n",
    "                      nb_filters=[512, 256, 128, 64, 3],\n",
    "                      conv_kwargs=kwargs)\n",
    "config.set_model(generator)"
   ]
  },
  {
   "cell_type": "markdown",
   "metadata": {},
   "source": [
    "__VAE :__"
   ]
  },
  {
   "cell_type": "code",
   "execution_count": 9,
   "metadata": {},
   "outputs": [],
   "source": [
    "# vae = VAE(input_size=(6, 64, 64), \n",
    "#           z_dim=100, \n",
    "#           enc_nf = [64, 128, 128], \n",
    "#           dec_nf = [256, 128, 128],\n",
    "#           enc_kwargs = {'padding': 1},\n",
    "#           dec_kwargs = {'kernel_size': 4},\n",
    "#           out_kwargs = {'kernel_size': 4, 'relu': False, 'bn': False},\n",
    "#           out_channels=3)\n",
    "# config.set_model(vae)"
   ]
  },
  {
   "cell_type": "markdown",
   "metadata": {},
   "source": [
    "__Discriminator :__"
   ]
  },
  {
   "cell_type": "code",
   "execution_count": 4,
   "metadata": {},
   "outputs": [],
   "source": [
    "kwargs = [{'kernel_size': 4, 'padding': 1, 'stride': 2, 'leak': 0.2, 'bn': False}] + \\\n",
    "         3 * [{'kernel_size': 4, 'padding': 1, 'stride': 2, 'leak': 0.2, 'bn': True}]\n",
    "\n",
    "disc_kwargs = {'input_size': (3, 64, 64),\n",
    "              'nb_filters': [512, 256, 128, 128],\n",
    "              'conv_kwargs': kwargs}\n",
    "# config.update_kwargs(discriminator=disc_kwargs)"
   ]
  },
  {
   "cell_type": "markdown",
   "metadata": {},
   "source": [
    "# ./Training params"
   ]
  },
  {
   "cell_type": "markdown",
   "metadata": {},
   "source": [
    "__Criterion :__"
   ]
  },
  {
   "cell_type": "code",
   "execution_count": 8,
   "metadata": {},
   "outputs": [],
   "source": [
    "criterion = nn.BCELoss()\n",
    "config.set_criterion(criterion)"
   ]
  },
  {
   "cell_type": "markdown",
   "metadata": {},
   "source": [
    "__Optimizers:__"
   ]
  },
  {
   "cell_type": "code",
   "execution_count": 9,
   "metadata": {},
   "outputs": [],
   "source": [
    "gen_optimizer = torch.optim.Adam(generator.parameters(), lr=2e-4, betas=(0.5, 0.999))\n",
    "disc_optimizer = {'lr': 2e-4,\n",
    "                  'betas': (0.5, 0.999)}\n",
    "\n",
    "config.set_optimizer(gen_optimizer)\n",
    "config.update_kwargs(disc_optimizer=disc_optimizer)"
   ]
  },
  {
   "cell_type": "markdown",
   "metadata": {},
   "source": [
    "__LR Scheduler:__"
   ]
  },
  {
   "cell_type": "code",
   "execution_count": 34,
   "metadata": {},
   "outputs": [],
   "source": [
    "scheduler = optim.lr_scheduler.ExponentialLR(optimizer=config.optimizer, gamma=0.999)\n",
    "\n",
    "config.set_lr_scheduler(scheduler)"
   ]
  },
  {
   "cell_type": "markdown",
   "metadata": {},
   "source": [
    "__Metrics:__"
   ]
  },
  {
   "cell_type": "code",
   "execution_count": 16,
   "metadata": {},
   "outputs": [],
   "source": [
    "callables = [accuracy, precision, recall]\n",
    "config.set_metrics(callables)"
   ]
  },
  {
   "cell_type": "markdown",
   "metadata": {},
   "source": [
    "__Mixup:__"
   ]
  },
  {
   "cell_type": "code",
   "execution_count": 11,
   "metadata": {},
   "outputs": [],
   "source": [
    "mixup_kwargs = {'alpha': 0.75}\n",
    "config.update_kwargs(mixup=mixup_kwargs)"
   ]
  },
  {
   "cell_type": "markdown",
   "metadata": {},
   "source": [
    "__Training scope :__"
   ]
  },
  {
   "cell_type": "code",
   "execution_count": 12,
   "metadata": {},
   "outputs": [],
   "source": [
    "epoch = 128\n",
    "config.set_epochs(epoch)"
   ]
  },
  {
   "cell_type": "code",
   "execution_count": 17,
   "metadata": {},
   "outputs": [],
   "source": [
    "config.dump()"
   ]
  },
  {
   "cell_type": "code",
   "execution_count": 14,
   "metadata": {},
   "outputs": [
    {
     "data": {
      "text/plain": [
       "<core.engine.config_file.ConfigFile object at 0x7faf0042eb00>\n",
       "_session_name : sandbox_mix\n",
       "_session_dir : /home/shahine/neural-conditioner/bin/sandbox_mix\n",
       "_criterion : BCELoss()\n",
       "_optimizer : Adam (\n",
       "Parameter Group 0\n",
       "    amsgrad: False\n",
       "    betas: (0.5, 0.999)\n",
       "    eps: 1e-08\n",
       "    lr: 0.0002\n",
       "    weight_decay: 0\n",
       ")\n",
       "_metrics : None\n",
       "_dataloader : Dataset CelebA\n",
       "    Number of datapoints: 162770\n",
       "    Root location: ../../tmp\n",
       "    Target type: ['attr']\n",
       "    Split: train\n",
       "<core.dataloader.celeba.CelebALoader object at 0x7fae783f5e48>\n",
       "_init_epoch : 0\n",
       "_epochs : 128\n",
       "_lr_scheduler : None\n",
       "_seed : 73\n",
       "_kwargs : {'discriminator': {'input_size': (3, 64, 64), 'nb_filters': [512, 256, 128, 128], 'conv_kwargs': [{'kernel_size': 4, 'padding': 1, 'stride': 2, 'leak': 0.2, 'bn': False}, {'kernel_size': 4, 'padding': 1, 'stride': 2, 'leak': 0.2, 'bn': True}, {'kernel_size': 4, 'padding': 1, 'stride': 2, 'leak': 0.2, 'bn': True}, {'kernel_size': 4, 'padding': 1, 'stride': 2, 'leak': 0.2, 'bn': True}]}, 'disc_optimizer': {'lr': 0.0002, 'betas': (0.5, 0.999)}, 'mixup': {'alpha': 0.75}}"
      ]
     },
     "execution_count": 14,
     "metadata": {},
     "output_type": "execute_result"
    }
   ],
   "source": [
    "config"
   ]
  },
  {
   "cell_type": "code",
   "execution_count": 46,
   "metadata": {},
   "outputs": [
    {
     "name": "stdout",
     "output_type": "stream",
     "text": [
      "\u001b[01;34m../bin\u001b[00m\r\n",
      "├── \u001b[01;34msandbox_gans\u001b[00m\r\n",
      "│   ├── \u001b[01;34mchkpt\u001b[00m\r\n",
      "│   ├── \u001b[01;34mruns\u001b[00m\r\n",
      "│   └── \u001b[01;34mscores\u001b[00m\r\n",
      "└── \u001b[01;34msandbox_gans_2\u001b[00m\r\n",
      "    ├── \u001b[01;34mchkpt\u001b[00m\r\n",
      "    ├── \u001b[01;34mruns\u001b[00m\r\n",
      "    └── \u001b[01;34mscores\u001b[00m\r\n",
      "\r\n",
      "8 directories\r\n"
     ]
    }
   ],
   "source": [
    "!tree -d ../bin"
   ]
  },
  {
   "cell_type": "markdown",
   "metadata": {},
   "source": [
    "$$\\log IS(G) = \\mathbb{E}_{x\\sim p_G} KL\\left[p(y|x)\\|p(y)\\right]\\sim \\frac{1}{K}\\sum_{k=1}^{K}\\frac{1}{n_k} \\sum_{i=1}^{n_k} KL\\left[p(y_k^{(i)}|x_k^{(i)})\\|p(\\hat y_k)\\right]$$"
   ]
  },
  {
   "cell_type": "code",
   "execution_count": 32,
   "metadata": {},
   "outputs": [],
   "source": [
    "import random\n",
    "import torch\n",
    "import torch.nn.functional as F\n",
    "\n",
    "def inception_score(fake_samples, inception_model, split_size=4):\n",
    "    \"\"\"Salimans et al. (2016)\n",
    "    Args:\n",
    "        fake_samples (torch.Tensor): batch of fake generated images\n",
    "        inception_model (nn.Module): inception model\n",
    "        split_size (int): number of samples to consider for marginal computation\n",
    "    \"\"\"\n",
    "    with torch.no_grad():\n",
    "        pred = torch.softmax(inception_model(fake_samples).logits, dim=-1)\n",
    "    conditionals = torch.stack(pred.split(split_size))\n",
    "    marginals = conditionals.mean(dim=1, keepdim=True).repeat(1, split_size, 1)\n",
    "    kl = F.kl_div(conditionals, marginals, reduction='batchmean')\n",
    "    return torch.exp(kl).item()"
   ]
  },
  {
   "cell_type": "code",
   "execution_count": 24,
   "metadata": {},
   "outputs": [],
   "source": [
    "from torchvision.models.inception import inception_v3\n",
    "inception_model = inception_v3(pretrained=True, transform_input=False).to(torch.device('cuda:2'))"
   ]
  },
  {
   "cell_type": "code",
   "execution_count": 33,
   "metadata": {
    "scrolled": false
   },
   "outputs": [],
   "source": [
    "torch.random.manual_seed(55)\n",
    "fake_samples = 0.5 + 0.5 * torch.randn((128, 3, 300, 300), device=torch.device('cuda:2'))\n",
    "kl = inception_score(fake_samples, inception_model)"
   ]
  },
  {
   "cell_type": "code",
   "execution_count": 47,
   "metadata": {},
   "outputs": [],
   "source": [
    "conditionals = torch.stack(64 * [torch.eye(10)])\n",
    "conditionals = conditionals + torch.rand_like(conditionals)\n",
    "marginals = conditionals.mean(dim=1, keepdim=True).repeat(1, 10, 1)"
   ]
  },
  {
   "cell_type": "code",
   "execution_count": 61,
   "metadata": {},
   "outputs": [],
   "source": [
    "kl = F.kl_div(conditionals[0, 0], marginals[0,0])"
   ]
  },
  {
   "cell_type": "code",
   "execution_count": 62,
   "metadata": {},
   "outputs": [
    {
     "data": {
      "text/plain": [
       "tensor(-0.7630)"
      ]
     },
     "execution_count": 62,
     "metadata": {},
     "output_type": "execute_result"
    }
   ],
   "source": [
    "kl"
   ]
  },
  {
   "cell_type": "code",
   "execution_count": 63,
   "metadata": {
    "scrolled": true
   },
   "outputs": [
    {
     "data": {
      "text/plain": [
       "tensor(2.5348)"
      ]
     },
     "execution_count": 63,
     "metadata": {},
     "output_type": "execute_result"
    }
   ],
   "source": [
    "torch.sum(conditionals[0, 0] * torch.log(conditionals[0, 0] / marginals[0, 0]))"
   ]
  },
  {
   "cell_type": "code",
   "execution_count": 34,
   "metadata": {},
   "outputs": [
    {
     "data": {
      "text/plain": [
       "3.0085814482078144e-12"
      ]
     },
     "execution_count": 34,
     "metadata": {},
     "output_type": "execute_result"
    }
   ],
   "source": [
    "kl"
   ]
  },
  {
   "cell_type": "code",
   "execution_count": 52,
   "metadata": {},
   "outputs": [
    {
     "data": {
      "text/plain": [
       "tensor([0.5853, 0.6333, 0.5924, 0.6032, 0.6558, 0.6284, 0.5099, 0.7034, 0.8330,\n",
       "        0.6891])"
      ]
     },
     "execution_count": 52,
     "metadata": {},
     "output_type": "execute_result"
    }
   ],
   "source": [
    "marginals[0, 0]"
   ]
  },
  {
   "cell_type": "code",
   "execution_count": 42,
   "metadata": {
    "scrolled": false
   },
   "outputs": [
    {
     "data": {
      "text/plain": [
       "tensor(-0.2403)"
      ]
     },
     "execution_count": 42,
     "metadata": {},
     "output_type": "execute_result"
    }
   ],
   "source": [
    "F.kl_div(conditionals[0, 0], marginals[0, 0])"
   ]
  },
  {
   "cell_type": "code",
   "execution_count": 86,
   "metadata": {},
   "outputs": [
    {
     "name": "stderr",
     "output_type": "stream",
     "text": [
      "/home/shahine/tmp/.venv/lib/python3.6/site-packages/torch/nn/functional.py:1992: UserWarning: reduction: 'mean' divides the total loss by both the batch size and the support size.'batchmean' divides only by the batch size, and aligns with the KL div math definition.'mean' will be changed to behave the same as 'batchmean' in the next major release.\n",
      "  warnings.warn(\"reduction: 'mean' divides the total loss by both the batch size and the support size.\"\n"
     ]
    }
   ],
   "source": [
    "kl_ = F.kl_div(conditionals.view_as(pred), marginals.view_as(pred))"
   ]
  },
  {
   "cell_type": "code",
   "execution_count": 92,
   "metadata": {},
   "outputs": [
    {
     "data": {
      "text/plain": [
       "1.0379011631011963"
      ]
     },
     "execution_count": 92,
     "metadata": {},
     "output_type": "execute_result"
    }
   ],
   "source": [
    "torch.exp(kl.mean()).item()"
   ]
  },
  {
   "cell_type": "code",
   "execution_count": 75,
   "metadata": {},
   "outputs": [],
   "source": [
    "kl = entropy(conditionals.view_as(pred).t().numpy(), marginals.view_as(pred).t().numpy())\n",
    "kl = torch.Tensor(kl)"
   ]
  },
  {
   "cell_type": "code",
   "execution_count": 80,
   "metadata": {},
   "outputs": [
    {
     "data": {
      "text/plain": [
       "tensor(0.0372)"
      ]
     },
     "execution_count": 80,
     "metadata": {},
     "output_type": "execute_result"
    }
   ],
   "source": [
    "torch.stack(kl.split(4)).mean(dim=0).mean()"
   ]
  },
  {
   "cell_type": "code",
   "execution_count": 81,
   "metadata": {},
   "outputs": [
    {
     "data": {
      "text/plain": [
       "tensor(0.0372)"
      ]
     },
     "execution_count": 81,
     "metadata": {},
     "output_type": "execute_result"
    }
   ],
   "source": [
    "kl.mean()"
   ]
  },
  {
   "cell_type": "code",
   "execution_count": 71,
   "metadata": {
    "scrolled": true
   },
   "outputs": [
    {
     "data": {
      "text/plain": [
       "0.034630544"
      ]
     },
     "execution_count": 71,
     "metadata": {},
     "output_type": "execute_result"
    }
   ],
   "source": [
    "kl[0]"
   ]
  },
  {
   "cell_type": "code",
   "execution_count": 66,
   "metadata": {},
   "outputs": [
    {
     "data": {
      "text/plain": [
       "torch.Size([10])"
      ]
     },
     "execution_count": 66,
     "metadata": {},
     "output_type": "execute_result"
    }
   ],
   "source": [
    "conditionals[0, 0].size()"
   ]
  },
  {
   "cell_type": "code",
   "execution_count": null,
   "metadata": {},
   "outputs": [],
   "source": []
  }
 ],
 "metadata": {
  "kernelspec": {
   "display_name": "Python 3",
   "language": "python",
   "name": "python3"
  }
 },
 "nbformat": 4,
 "nbformat_minor": 2
}
